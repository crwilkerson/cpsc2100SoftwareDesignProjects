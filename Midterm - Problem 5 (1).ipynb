{
 "cells": [
  {
   "cell_type": "code",
   "execution_count": 13,
   "id": "45e08258",
   "metadata": {},
   "outputs": [
    {
     "data": {
      "text/plain": [
       "{True: [0, 2, 4]}"
      ]
     },
     "execution_count": 13,
     "metadata": {},
     "output_type": "execute_result"
    }
   ],
   "source": [
    "def dict_invert(d):\n",
    "    invDict = {}\n",
    "    for val in list (set(d.values())):\n",
    "        temp= []\n",
    "        for k in d.keys():\n",
    "            if d[k] == val:\n",
    "                temp.append(k)\n",
    "        temp.sort()\n",
    "        invDict[val]= temp\n",
    "    return invDict\n",
    "d = {1:10, 2:20, 3:30}\n",
    "d = {1:10, 2:20, 3:30, 4:30} \n",
    "d = {4:True, 2:True, 0:True}\n",
    "dict_invert(d)"
   ]
  },
  {
   "cell_type": "code",
   "execution_count": null,
   "id": "ac398edc",
   "metadata": {},
   "outputs": [],
   "source": []
  },
  {
   "cell_type": "code",
   "execution_count": null,
   "id": "dbf23094",
   "metadata": {},
   "outputs": [],
   "source": []
  },
  {
   "cell_type": "code",
   "execution_count": null,
   "id": "97b88935",
   "metadata": {},
   "outputs": [],
   "source": []
  },
  {
   "cell_type": "code",
   "execution_count": null,
   "id": "6bc1752c",
   "metadata": {},
   "outputs": [],
   "source": []
  },
  {
   "cell_type": "code",
   "execution_count": null,
   "id": "a3261c3c",
   "metadata": {},
   "outputs": [],
   "source": []
  },
  {
   "cell_type": "code",
   "execution_count": null,
   "id": "51bdc9f9",
   "metadata": {},
   "outputs": [],
   "source": []
  }
 ],
 "metadata": {
  "kernelspec": {
   "display_name": "Python 3 (ipykernel)",
   "language": "python",
   "name": "python3"
  },
  "language_info": {
   "codemirror_mode": {
    "name": "ipython",
    "version": 3
   },
   "file_extension": ".py",
   "mimetype": "text/x-python",
   "name": "python",
   "nbconvert_exporter": "python",
   "pygments_lexer": "ipython3",
   "version": "3.9.13"
  }
 },
 "nbformat": 4,
 "nbformat_minor": 5
}
