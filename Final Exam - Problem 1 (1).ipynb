{
 "cells": [
  {
   "cell_type": "code",
   "execution_count": 2,
   "id": "bd427e67",
   "metadata": {},
   "outputs": [
    {
     "name": "stdout",
     "output_type": "stream",
     "text": [
      "aebfcgdh\n",
      "eafbgchdi\n"
     ]
    }
   ],
   "source": [
    "def laceStrings(s1, s2):\n",
    "    newString = ''\n",
    "    lenS1 = len(s1)\n",
    "    lenS2 = len(s2)\n",
    "    if lenS1 == lenS2:\n",
    "        newString += s1[i] + s2[i]\n",
    "    else:\n",
    "        lenToDo = min(lenS1, lenS2)\n",
    "        for i in range(lenToDo):\n",
    "            newString += s1[i] + s2[i]\n",
    "        if lenS1 > lenS2:\n",
    "            newString += s1[lenS2:]\n",
    "        else:\n",
    "            newString += s2[lenS2:]\n",
    "    return newString\n",
    "\n",
    "print (laceStrings('abcd','efghi'))\n",
    "print (laceStrings('efghi','abcd'))"
   ]
  },
  {
   "cell_type": "code",
   "execution_count": null,
   "id": "cd9b626d",
   "metadata": {},
   "outputs": [],
   "source": []
  }
 ],
 "metadata": {
  "kernelspec": {
   "display_name": "Python 3 (ipykernel)",
   "language": "python",
   "name": "python3"
  },
  "language_info": {
   "codemirror_mode": {
    "name": "ipython",
    "version": 3
   },
   "file_extension": ".py",
   "mimetype": "text/x-python",
   "name": "python",
   "nbconvert_exporter": "python",
   "pygments_lexer": "ipython3",
   "version": "3.9.13"
  }
 },
 "nbformat": 4,
 "nbformat_minor": 5
}
