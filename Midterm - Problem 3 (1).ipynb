{
 "cells": [
  {
   "cell_type": "code",
   "execution_count": 1,
   "id": "1050aedf",
   "metadata": {},
   "outputs": [
    {
     "name": "stdout",
     "output_type": "stream",
     "text": [
      "Please enter variable a1: 4\n",
      "Please enter variable b1: 5\n",
      "Please enter variable c1: 6\n",
      "Please enter variable x1: 2\n",
      "Please enter variable a2: 8\n",
      "Please enter variable b2: 7\n",
      "Please enter variable c2: 6\n",
      "Please enter variable x2: 3\n",
      "Your result =  131\n"
     ]
    }
   ],
   "source": [
    "def evalQuadratic(a, b, c, x):\n",
    "    return a*x*x + b*x + c\n",
    "def twoQuadratics():\n",
    "    a1 = int (input(\"Please enter variable a1: \"))\n",
    "    b1 = int (input(\"Please enter variable b1: \"))\n",
    "    c1 = int (input(\"Please enter variable c1: \"))\n",
    "    x1 = int (input(\"Please enter variable x1: \"))\n",
    "    a2 = int (input(\"Please enter variable a2: \"))\n",
    "    b2 = int (input(\"Please enter variable b2: \"))\n",
    "    c2 = int (input(\"Please enter variable c2: \"))\n",
    "    x2 = int (input(\"Please enter variable x2: \"))\n",
    "    result1 = evalQuadratic(a1, b1, c1, x1)\n",
    "    result2 = evalQuadratic(a2, b2, c2, x2)\n",
    "    print(\"Your result = \", result1 + result2)\n",
    "    \n",
    "twoQuadratics()"
   ]
  },
  {
   "cell_type": "code",
   "execution_count": null,
   "id": "706b1799",
   "metadata": {},
   "outputs": [],
   "source": []
  }
 ],
 "metadata": {
  "kernelspec": {
   "display_name": "Python 3 (ipykernel)",
   "language": "python",
   "name": "python3"
  },
  "language_info": {
   "codemirror_mode": {
    "name": "ipython",
    "version": 3
   },
   "file_extension": ".py",
   "mimetype": "text/x-python",
   "name": "python",
   "nbconvert_exporter": "python",
   "pygments_lexer": "ipython3",
   "version": "3.9.13"
  }
 },
 "nbformat": 4,
 "nbformat_minor": 5
}
