{
 "cells": [
  {
   "cell_type": "code",
   "execution_count": 6,
   "id": "667d2011",
   "metadata": {},
   "outputs": [
    {
     "name": "stdout",
     "output_type": "stream",
     "text": [
      "Number of times bob occurs is: 2\n"
     ]
    }
   ],
   "source": [
    "s = 'azcbobobeggbobhakl'\n",
    "k = s.count(\"bob\")\n",
    "print(\"Number of times bob occurs is:\" , k)"
   ]
  },
  {
   "cell_type": "code",
   "execution_count": null,
   "id": "a5ad8aeb",
   "metadata": {},
   "outputs": [],
   "source": []
  }
 ],
 "metadata": {
  "kernelspec": {
   "display_name": "Python 3 (ipykernel)",
   "language": "python",
   "name": "python3"
  },
  "language_info": {
   "codemirror_mode": {
    "name": "ipython",
    "version": 3
   },
   "file_extension": ".py",
   "mimetype": "text/x-python",
   "name": "python",
   "nbconvert_exporter": "python",
   "pygments_lexer": "ipython3",
   "version": "3.9.13"
  }
 },
 "nbformat": 4,
 "nbformat_minor": 5
}
