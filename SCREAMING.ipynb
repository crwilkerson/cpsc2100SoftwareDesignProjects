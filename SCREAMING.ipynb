{
 "cells": [
  {
   "cell_type": "code",
   "execution_count": 1,
   "id": "d45c7ea0",
   "metadata": {},
   "outputs": [
    {
     "name": "stdout",
     "output_type": "stream",
     "text": [
      "('g', '*', '*', 'k', 's')\n"
     ]
    }
   ],
   "source": [
    "T = tuple('geeks')\n",
    "a, b, c, d, e = T\n",
    "b = c = '*'\n",
    "T = (a, b, c, d, e)\n",
    "print(T)"
   ]
  },
  {
   "cell_type": "code",
   "execution_count": 2,
   "id": "6e916dad",
   "metadata": {},
   "outputs": [
    {
     "ename": "IndentationError",
     "evalue": "expected an indented block (2923177706.py, line 3)",
     "output_type": "error",
     "traceback": [
      "\u001b[1;36m  File \u001b[1;32m\"C:\\Users\\cwilk\\AppData\\Local\\Temp\\ipykernel_26492\\2923177706.py\"\u001b[1;36m, line \u001b[1;32m3\u001b[0m\n\u001b[1;33m    self.time = time\u001b[0m\n\u001b[1;37m    ^\u001b[0m\n\u001b[1;31mIndentationError\u001b[0m\u001b[1;31m:\u001b[0m expected an indented block\n"
     ]
    }
   ],
   "source": [
    "class Clock(object):\n",
    "    def __init__(self, time):\n",
    "    self.time = time\n",
    "    def print_time(self):\n",
    "    time = '6:30'\n",
    "    print(self.time)\n",
    " \n",
    "clock = Clock('5:30')\n",
    "clock.print_time()\n"
   ]
  },
  {
   "cell_type": "code",
   "execution_count": 3,
   "id": "89977c5f",
   "metadata": {},
   "outputs": [
    {
     "ename": "IndentationError",
     "evalue": "expected an indented block (2554947176.py, line 3)",
     "output_type": "error",
     "traceback": [
      "\u001b[1;36m  File \u001b[1;32m\"C:\\Users\\cwilk\\AppData\\Local\\Temp\\ipykernel_26492\\2554947176.py\"\u001b[1;36m, line \u001b[1;32m3\u001b[0m\n\u001b[1;33m    self.time = time\u001b[0m\n\u001b[1;37m    ^\u001b[0m\n\u001b[1;31mIndentationError\u001b[0m\u001b[1;31m:\u001b[0m expected an indented block\n"
     ]
    }
   ],
   "source": [
    "class Clock(object):\n",
    "    def __init__(self, time):\n",
    "    self.time = time\n",
    "    def print_time(self):\n",
    "    time = '6:30'\n",
    "    print(self.time)\n",
    " \n",
    "clock = Clock('5:30')\n",
    "clock.print_time()"
   ]
  },
  {
   "cell_type": "code",
   "execution_count": 4,
   "id": "a88fe7ea",
   "metadata": {},
   "outputs": [
    {
     "name": "stdout",
     "output_type": "stream",
     "text": [
      "[0, '2', '3', '5', '5', 0]\n"
     ]
    }
   ],
   "source": [
    "L = list('123456')\n",
    "L[0] = L[5] = 0\n",
    "L[3] = L[-2]\n",
    "print(L)\n"
   ]
  },
  {
   "cell_type": "code",
   "execution_count": 5,
   "id": "3f7ad605",
   "metadata": {},
   "outputs": [
    {
     "ename": "TypeError",
     "evalue": "unsupported operand type(s) for /: 'str' and 'str'",
     "output_type": "error",
     "traceback": [
      "\u001b[1;31m---------------------------------------------------------------------------\u001b[0m",
      "\u001b[1;31mTypeError\u001b[0m                                 Traceback (most recent call last)",
      "\u001b[1;32m~\\AppData\\Local\\Temp\\ipykernel_26492\\249083041.py\u001b[0m in \u001b[0;36m<module>\u001b[1;34m\u001b[0m\n\u001b[1;32m----> 1\u001b[1;33m \u001b[1;34m'1'\u001b[0m \u001b[1;33m/\u001b[0m \u001b[1;34m'2'\u001b[0m\u001b[1;33m\u001b[0m\u001b[1;33m\u001b[0m\u001b[0m\n\u001b[0m",
      "\u001b[1;31mTypeError\u001b[0m: unsupported operand type(s) for /: 'str' and 'str'"
     ]
    }
   ],
   "source": [
    "'1' / '2'"
   ]
  },
  {
   "cell_type": "code",
   "execution_count": 6,
   "id": "74aead69",
   "metadata": {},
   "outputs": [
    {
     "name": "stdout",
     "output_type": "stream",
     "text": [
      "Cold\n"
     ]
    }
   ],
   "source": [
    "temp = 50\n",
    "if temp > 85:\n",
    "   print(\"Hot\")\n",
    "elif temp > 100:\n",
    "   print(\"REALLY HOT!\")\n",
    "elif temp > 60:\n",
    "   print(\"Comfortable\")\n",
    "else:\n",
    "   print(\"Cold\")"
   ]
  },
  {
   "cell_type": "code",
   "execution_count": null,
   "id": "06799df3",
   "metadata": {},
   "outputs": [],
   "source": []
  }
 ],
 "metadata": {
  "kernelspec": {
   "display_name": "Python 3 (ipykernel)",
   "language": "python",
   "name": "python3"
  },
  "language_info": {
   "codemirror_mode": {
    "name": "ipython",
    "version": 3
   },
   "file_extension": ".py",
   "mimetype": "text/x-python",
   "name": "python",
   "nbconvert_exporter": "python",
   "pygments_lexer": "ipython3",
   "version": "3.9.13"
  }
 },
 "nbformat": 4,
 "nbformat_minor": 5
}
