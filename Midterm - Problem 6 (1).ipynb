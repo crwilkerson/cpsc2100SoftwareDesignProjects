{
 "cells": [
  {
   "cell_type": "code",
   "execution_count": 13,
   "id": "2fbbb66c",
   "metadata": {},
   "outputs": [
    {
     "name": "stdout",
     "output_type": "stream",
     "text": [
      "Your maximum value is:\n",
      "5\n",
      "Your maximum value is:\n",
      "9\n"
     ]
    }
   ],
   "source": [
    "def max_val(t):\n",
    "    maxVal = float('-inf')\n",
    "    if isinstance(t,int):\n",
    "        return t\n",
    "    if isinstance(t, (list, tuple)):\n",
    "        for x in t:\n",
    "            currMax = max_val(x)\n",
    "            maxVal = max(maxVal, currMax)\n",
    "        return maxVal\n",
    "print('Your maximum value is:')\n",
    "print(max_val((5, (1,2), [[1],[2]])))\n",
    "print('Your maximum value is:')\n",
    "print(max_val((5, (1,2), [[1],[9]])))"
   ]
  },
  {
   "cell_type": "code",
   "execution_count": null,
   "id": "3516f372",
   "metadata": {},
   "outputs": [],
   "source": []
  }
 ],
 "metadata": {
  "kernelspec": {
   "display_name": "Python 3 (ipykernel)",
   "language": "python",
   "name": "python3"
  },
  "language_info": {
   "codemirror_mode": {
    "name": "ipython",
    "version": 3
   },
   "file_extension": ".py",
   "mimetype": "text/x-python",
   "name": "python",
   "nbconvert_exporter": "python",
   "pygments_lexer": "ipython3",
   "version": "3.9.13"
  }
 },
 "nbformat": 4,
 "nbformat_minor": 5
}
