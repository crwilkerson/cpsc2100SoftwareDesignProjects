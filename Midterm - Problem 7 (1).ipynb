{
 "cells": [
  {
   "cell_type": "code",
   "execution_count": 2,
   "id": "ae1d3c8e",
   "metadata": {},
   "outputs": [
    {
     "name": "stdout",
     "output_type": "stream",
     "text": [
      "2\n",
      "['b', 'c']\n"
     ]
    }
   ],
   "source": [
    "def satisfiesF(L):\n",
    "    L_new = [s for s in L if f(s) == False]\n",
    "    L[:] = L_new\n",
    "    return len(L_new)\n",
    "\n",
    "def f(s):\n",
    "    return 'a' in s\n",
    "def run_satisfies(L, satisfiesF):\n",
    "    print(satisfiesF(L))\n",
    "    \n",
    "L = ['a','b','c']\n",
    "print(satisfiesF(L))\n",
    "print(L)"
   ]
  },
  {
   "cell_type": "code",
   "execution_count": null,
   "id": "32544be8",
   "metadata": {},
   "outputs": [],
   "source": []
  }
 ],
 "metadata": {
  "kernelspec": {
   "display_name": "Python 3 (ipykernel)",
   "language": "python",
   "name": "python3"
  },
  "language_info": {
   "codemirror_mode": {
    "name": "ipython",
    "version": 3
   },
   "file_extension": ".py",
   "mimetype": "text/x-python",
   "name": "python",
   "nbconvert_exporter": "python",
   "pygments_lexer": "ipython3",
   "version": "3.9.13"
  }
 },
 "nbformat": 4,
 "nbformat_minor": 5
}
