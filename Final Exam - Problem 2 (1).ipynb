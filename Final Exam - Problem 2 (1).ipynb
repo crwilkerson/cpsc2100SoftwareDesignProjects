{
 "cells": [
  {
   "cell_type": "code",
   "execution_count": 3,
   "id": "602ced75",
   "metadata": {},
   "outputs": [
    {
     "name": "stdout",
     "output_type": "stream",
     "text": [
      "[2, 3, 5, 7, 11, 13, 17, 19, 23, 29, 31, 37, 41, 43, 47, 53, 59, 61, 67, 71, 73, 79, 83, 89, 97]\n"
     ]
    }
   ],
   "source": [
    "def primes_list(N):\n",
    "    result = []\n",
    "    for i in range(2,N+1):\n",
    "        isPrime = True\n",
    "        for x in range(2,i):\n",
    "            if i % x == 0:\n",
    "                isPrime = False\n",
    "        if(isPrime):\n",
    "            result.append(i)\n",
    "    return result\n",
    "\n",
    "print(primes_list(100))"
   ]
  },
  {
   "cell_type": "code",
   "execution_count": null,
   "id": "2b01b3dc",
   "metadata": {},
   "outputs": [],
   "source": []
  }
 ],
 "metadata": {
  "kernelspec": {
   "display_name": "Python 3 (ipykernel)",
   "language": "python",
   "name": "python3"
  },
  "language_info": {
   "codemirror_mode": {
    "name": "ipython",
    "version": 3
   },
   "file_extension": ".py",
   "mimetype": "text/x-python",
   "name": "python",
   "nbconvert_exporter": "python",
   "pygments_lexer": "ipython3",
   "version": "3.9.13"
  }
 },
 "nbformat": 4,
 "nbformat_minor": 5
}
