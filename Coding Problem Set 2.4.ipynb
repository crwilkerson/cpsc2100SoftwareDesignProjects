{
 "cells": [
  {
   "cell_type": "code",
   "execution_count": 5,
   "id": "43966e09",
   "metadata": {},
   "outputs": [
    {
     "ename": "KeyboardInterrupt",
     "evalue": "",
     "output_type": "error",
     "traceback": [
      "\u001b[1;31m---------------------------------------------------------------------------\u001b[0m",
      "\u001b[1;31mKeyboardInterrupt\u001b[0m                         Traceback (most recent call last)",
      "\u001b[1;32m~\\AppData\\Local\\Temp\\ipykernel_23772\\2554507201.py\u001b[0m in \u001b[0;36m<module>\u001b[1;34m\u001b[0m\n\u001b[0;32m     17\u001b[0m     \u001b[0mnew_balance\u001b[0m \u001b[1;33m=\u001b[0m \u001b[0mbalance\u001b[0m \u001b[1;31m#COULD BUG OUT IDK WE'LL FIND OUT\u001b[0m\u001b[1;33m\u001b[0m\u001b[1;33m\u001b[0m\u001b[0m\n\u001b[0;32m     18\u001b[0m     \u001b[0mmonth\u001b[0m \u001b[1;33m=\u001b[0m \u001b[1;36m0\u001b[0m\u001b[1;33m\u001b[0m\u001b[1;33m\u001b[0m\u001b[0m\n\u001b[1;32m---> 19\u001b[1;33m     \u001b[0mnew_balance\u001b[0m \u001b[1;33m=\u001b[0m \u001b[0mrecursivePayment\u001b[0m \u001b[1;33m(\u001b[0m\u001b[0mmonth\u001b[0m\u001b[1;33m,\u001b[0m \u001b[0mbalance\u001b[0m\u001b[1;33m,\u001b[0m \u001b[0mpayment\u001b[0m\u001b[1;33m,\u001b[0m \u001b[0mmonthlyInterestRate\u001b[0m\u001b[1;33m)\u001b[0m\u001b[1;33m\u001b[0m\u001b[1;33m\u001b[0m\u001b[0m\n\u001b[0m\u001b[0;32m     20\u001b[0m     \u001b[1;32mif\u001b[0m \u001b[0mbalance\u001b[0m \u001b[1;33m>\u001b[0m \u001b[1;36m0\u001b[0m\u001b[1;33m:\u001b[0m\u001b[1;33m\u001b[0m\u001b[1;33m\u001b[0m\u001b[0m\n\u001b[0;32m     21\u001b[0m         \u001b[0mlow\u001b[0m \u001b[1;33m=\u001b[0m \u001b[0mpayment\u001b[0m \u001b[1;31m#pin in this cuz idk if work\u001b[0m\u001b[1;33m\u001b[0m\u001b[1;33m\u001b[0m\u001b[0m\n",
      "\u001b[1;31mKeyboardInterrupt\u001b[0m: "
     ]
    }
   ],
   "source": [
    "balance = 5000\n",
    "annualInterestRate = 0.18\n",
    "monthlyInterestRate = annualInterestRate/12.0\n",
    "low = balance/12.0\n",
    "high = (balance * ((1.0 + monthlyInterestRate)**12))/12.0\n",
    "epsilon = 0.01\n",
    "payment = int((low + high) / 2)\n",
    "\n",
    "def recursivePayment (month, balance, payment, monthlyInterestRate):\n",
    "    while month <12: \n",
    "        unpaidBalance = balance - payment #unsure\n",
    "        balance = unpaidBalance + (monthlyInterestRate * unpaidBalance)\n",
    "        month += 1\n",
    "    return balance\n",
    "\n",
    "while abs(balance) >= epsilon:\n",
    "    new_balance = balance #COULD BUG OUT IDK WE'LL FIND OUT\n",
    "    month = 0\n",
    "    new_balance = recursivePayment (month, balance, payment, monthlyInterestRate)\n",
    "    if balance > 0:\n",
    "        low = payment #pin in this cuz idk if work\n",
    "    else:\n",
    "        high = payment\n",
    "    payment = (high + low)/2.0\n",
    "payment = round(payment,2)\n",
    "print('Lowest Payment will be: ' + str(payment))\n"
   ]
  },
  {
   "cell_type": "code",
   "execution_count": 6,
   "id": "b08c1fbb",
   "metadata": {},
   "outputs": [
    {
     "name": "stdout",
     "output_type": "stream",
     "text": [
      "Lowest Payment will be: 451.62\n"
     ]
    }
   ],
   "source": [
    "initBalance = balance = 5000\n",
    "annualInterestRate = 0.18\n",
    "monthlyInterestRate = annualInterestRate/12.0\n",
    "low = balance/12.0\n",
    "high = (balance * ((1.0 + monthlyInterestRate)**12))/12.0\n",
    "epsilon = 0.01\n",
    "minPay = int((low + high) / 2)\n",
    "\n",
    "def recursivePayment (month, balance, minPay, monthlyInterestRate):\n",
    "    while month <12: \n",
    "        unpaidBalance = balance - minPay #unsure\n",
    "        balance = unpaidBalance + (monthlyInterestRate * unpaidBalance)\n",
    "        month += 1\n",
    "    return balance\n",
    "\n",
    "while abs(balance) >= epsilon:\n",
    "    balance = initBalance #COULD BUG OUT IDK WE'LL FIND OUT\n",
    "    month = 0\n",
    "    balance = recursivePayment (month, balance, minPay, monthlyInterestRate)\n",
    "    if balance > 0:\n",
    "        low = minPay #pin in this cuz idk if work\n",
    "    else:\n",
    "        high = minPay\n",
    "    minPay = (high + low)/2.0\n",
    "minPay = round(minPay,2)\n",
    "print('Lowest Payment will be: ' + str(minPay))"
   ]
  },
  {
   "cell_type": "code",
   "execution_count": null,
   "id": "f013661f",
   "metadata": {},
   "outputs": [],
   "source": []
  }
 ],
 "metadata": {
  "kernelspec": {
   "display_name": "Python 3 (ipykernel)",
   "language": "python",
   "name": "python3"
  },
  "language_info": {
   "codemirror_mode": {
    "name": "ipython",
    "version": 3
   },
   "file_extension": ".py",
   "mimetype": "text/x-python",
   "name": "python",
   "nbconvert_exporter": "python",
   "pygments_lexer": "ipython3",
   "version": "3.9.13"
  }
 },
 "nbformat": 4,
 "nbformat_minor": 5
}
