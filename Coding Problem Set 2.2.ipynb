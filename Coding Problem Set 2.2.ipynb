{
 "cells": [
  {
   "cell_type": "code",
   "execution_count": 10,
   "id": "93618361",
   "metadata": {},
   "outputs": [
    {
     "name": "stdout",
     "output_type": "stream",
     "text": [
      "Lowest Payment: 460\n"
     ]
    }
   ],
   "source": [
    "#balance = 5000, annual interest rate = 0.18\n",
    "\n",
    "balance = 5000\n",
    "annualInterestRate = 0.18\n",
    "payment = 10\n",
    "\n",
    "while True:\n",
    "    new_balance = balance\n",
    "    for month in range(1, 13):\n",
    "        new_balance -= payment\n",
    "        new_balance += new_balance * (annualInterestRate / 12.0)\n",
    "    if new_balance > 0:\n",
    "        payment += 10\n",
    "        new_balance = balance\n",
    "    else:\n",
    "        print('Lowest Payment: {0}' .format(payment))\n",
    "        break"
   ]
  },
  {
   "cell_type": "code",
   "execution_count": null,
   "id": "cb4f428c",
   "metadata": {},
   "outputs": [],
   "source": []
  }
 ],
 "metadata": {
  "kernelspec": {
   "display_name": "Python 3 (ipykernel)",
   "language": "python",
   "name": "python3"
  },
  "language_info": {
   "codemirror_mode": {
    "name": "ipython",
    "version": 3
   },
   "file_extension": ".py",
   "mimetype": "text/x-python",
   "name": "python",
   "nbconvert_exporter": "python",
   "pygments_lexer": "ipython3",
   "version": "3.9.13"
  }
 },
 "nbformat": 4,
 "nbformat_minor": 5
}
