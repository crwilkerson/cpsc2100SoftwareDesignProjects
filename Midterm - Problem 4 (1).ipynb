{
 "cells": [
  {
   "cell_type": "code",
   "execution_count": 5,
   "id": "b578d520",
   "metadata": {},
   "outputs": [
    {
     "name": "stdout",
     "output_type": "stream",
     "text": [
      "The deepest reversage of your L list is: [[7, 6, 5], [4, 3], [2, 1]]\n"
     ]
    }
   ],
   "source": [
    "L = [[1, 2], [3, 4], [5, 6, 7]]\n",
    "def deep_reverse(L):\n",
    "    mutatedList = []\n",
    "    for i in L:\n",
    "        i.reverse()\n",
    "        mutatedList.append(i)\n",
    "    mutatedList.reverse()\n",
    "    L = mutatedList[:]\n",
    "    print(\"The deepest reversage of your L list is:\",L)\n",
    "deep_reverse(L)"
   ]
  },
  {
   "cell_type": "code",
   "execution_count": null,
   "id": "fe4b4dcf",
   "metadata": {},
   "outputs": [],
   "source": []
  }
 ],
 "metadata": {
  "kernelspec": {
   "display_name": "Python 3 (ipykernel)",
   "language": "python",
   "name": "python3"
  },
  "language_info": {
   "codemirror_mode": {
    "name": "ipython",
    "version": 3
   },
   "file_extension": ".py",
   "mimetype": "text/x-python",
   "name": "python",
   "nbconvert_exporter": "python",
   "pygments_lexer": "ipython3",
   "version": "3.9.13"
  }
 },
 "nbformat": 4,
 "nbformat_minor": 5
}
