{
 "cells": [
  {
   "cell_type": "code",
   "execution_count": 7,
   "id": "8ff3d833",
   "metadata": {},
   "outputs": [
    {
     "name": "stdout",
     "output_type": "stream",
     "text": [
      "4:2\n",
      "\n",
      "\n",
      "True\n",
      "True\n",
      "False\n"
     ]
    }
   ],
   "source": [
    "class Container(object):\n",
    "    \"\"\" Holds hashable objects. Objects may occur 0 or more times \"\"\"\n",
    "    def __init__(self):\n",
    "        \"\"\" Creates a new container with no objects in it. I.e., any object\n",
    "            occurs 0 times in self. \"\"\"\n",
    "        self.vals = {}\n",
    "    def insert(self, e):\n",
    "        \"\"\" assumes e is hashable\n",
    "            Increases the number times e occurs in self by 1. \"\"\"\n",
    "        try:\n",
    "            self.vals[e] += 1\n",
    "        except:\n",
    "            self.vals[e] = 1\n",
    "    def __str__(self):\n",
    "        s = \"\"\n",
    "        for i in sorted(self.vals.keys()):\n",
    "            if self.vals[i] != 0:\n",
    "                s += str(i)+\":\"+str(self.vals[i])+\"\\n\"\n",
    "        return s\n",
    "\n",
    "class ASet(Container):\n",
    "    def remove(self, e):\n",
    "        \"\"\"assumes e is hashable\n",
    "           removes e from self\"\"\"\n",
    "        # write code here\n",
    "        try:\n",
    "            del self.vals[e]\n",
    "        except:\n",
    "            pass\n",
    "        \n",
    "    def is_in(self, e):\n",
    "        \"\"\"assumes e is hashable\n",
    "           returns True if e has been inserted in self and\n",
    "           not subsequently removed, and False otherwise.\"\"\"\n",
    "        # write code here\n",
    "        try:\n",
    "            if self.vals[e] != 0:\n",
    "                return True\n",
    "            else:\n",
    "                return False\n",
    "        except:\n",
    "            return False\n",
    "\n",
    "#TESTING\n",
    "d1 = ASet()\n",
    "d1.insert(4)\n",
    "d1.insert(4)\n",
    "d1.remove(2)\n",
    "print(d1)\n",
    "d1.remove(4)\n",
    "print(d1)\n",
    "\n",
    "#MOAAAAAAAAAAAAAAAAAR TESTING\n",
    "d1 = ASet()\n",
    "d1.insert(4)\n",
    "print(d1.is_in(4))\n",
    "d1.insert(5)\n",
    "print(d1.is_in(5))\n",
    "d1.remove(5)\n",
    "print(d1.is_in(5))"
   ]
  },
  {
   "cell_type": "code",
   "execution_count": null,
   "id": "a523e225",
   "metadata": {},
   "outputs": [],
   "source": []
  },
  {
   "cell_type": "code",
   "execution_count": null,
   "id": "13ca87e0",
   "metadata": {},
   "outputs": [],
   "source": []
  }
 ],
 "metadata": {
  "kernelspec": {
   "display_name": "Python 3 (ipykernel)",
   "language": "python",
   "name": "python3"
  },
  "language_info": {
   "codemirror_mode": {
    "name": "ipython",
    "version": 3
   },
   "file_extension": ".py",
   "mimetype": "text/x-python",
   "name": "python",
   "nbconvert_exporter": "python",
   "pygments_lexer": "ipython3",
   "version": "3.9.13"
  }
 },
 "nbformat": 4,
 "nbformat_minor": 5
}
