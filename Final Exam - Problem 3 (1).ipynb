{
 "cells": [
  {
   "cell_type": "code",
   "execution_count": 2,
   "id": "57d10a4f",
   "metadata": {},
   "outputs": [
    {
     "name": "stdout",
     "output_type": "stream",
     "text": [
      "[1, 3, 8]\n",
      "[]\n"
     ]
    }
   ],
   "source": [
    "def uniqueValues(aDict):\n",
    "    result = []\n",
    "    vals = list(aDict.values())\n",
    "    for k in aDict:\n",
    "        if vals.count(aDict[k]) == 1:\n",
    "            result.append(k)\n",
    "    return result\n",
    "\n",
    "print(uniqueValues({1: 1, 3: 2, 6: 0, 7: 0, 8: 4, 10: 0}))\n",
    "print(uniqueValues({1: 1, 2: 1, 3: 1}))"
   ]
  },
  {
   "cell_type": "code",
   "execution_count": null,
   "id": "8ccc35bc",
   "metadata": {},
   "outputs": [],
   "source": []
  }
 ],
 "metadata": {
  "kernelspec": {
   "display_name": "Python 3 (ipykernel)",
   "language": "python",
   "name": "python3"
  },
  "language_info": {
   "codemirror_mode": {
    "name": "ipython",
    "version": 3
   },
   "file_extension": ".py",
   "mimetype": "text/x-python",
   "name": "python",
   "nbconvert_exporter": "python",
   "pygments_lexer": "ipython3",
   "version": "3.9.13"
  }
 },
 "nbformat": 4,
 "nbformat_minor": 5
}
