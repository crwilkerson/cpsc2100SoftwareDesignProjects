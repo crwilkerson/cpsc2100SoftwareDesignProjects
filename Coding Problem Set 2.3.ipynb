{
 "cells": [
  {
   "cell_type": "code",
   "execution_count": 2,
   "id": "a5de3162",
   "metadata": {},
   "outputs": [
    {
     "name": "stdout",
     "output_type": "stream",
     "text": [
      "Current Guess:  2950.0\n"
     ]
    }
   ],
   "source": [
    "balance = 5000\n",
    "annualInterestRate = 0.18\n",
    "\n",
    "low_bound = 0\n",
    "high_bound = balance * (1 + annualInterestRate)\n",
    "payment = (low + high) / 2\n",
    "\n",
    "print('Current Guess: ', payment)"
   ]
  },
  {
   "cell_type": "code",
   "execution_count": 7,
   "id": "aff151b6",
   "metadata": {},
   "outputs": [
    {
     "name": "stdout",
     "output_type": "stream",
     "text": [
      "Lowest Payment: 451.61\n"
     ]
    }
   ],
   "source": [
    "while True:\n",
    "    new_balance = balance\n",
    "    for month in range(1, 13):\n",
    "        new_balance -= payment\n",
    "        new_balance += new_balance * (annualInterestRate / 12.0)\n",
    "        \n",
    "    if 0 < new_balance <= 1: \n",
    "        print('Lowest Payment:', round(payment, 2))\n",
    "        break\n",
    "    elif new_balance > 0.01:\n",
    "        low_bound = payment\n",
    "    elif new_balance < 0.01:\n",
    "        high_bound = payment\n",
    "        \n",
    "    payment = int((low + high) / 2)\n",
    "    \n",
    "    "
   ]
  },
  {
   "cell_type": "code",
   "execution_count": null,
   "id": "4dddd297",
   "metadata": {},
   "outputs": [],
   "source": []
  }
 ],
 "metadata": {
  "kernelspec": {
   "display_name": "Python 3 (ipykernel)",
   "language": "python",
   "name": "python3"
  },
  "language_info": {
   "codemirror_mode": {
    "name": "ipython",
    "version": 3
   },
   "file_extension": ".py",
   "mimetype": "text/x-python",
   "name": "python",
   "nbconvert_exporter": "python",
   "pygments_lexer": "ipython3",
   "version": "3.9.13"
  }
 },
 "nbformat": 4,
 "nbformat_minor": 5
}
